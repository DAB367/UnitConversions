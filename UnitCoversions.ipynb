{
 "cells": [
  {
   "cell_type": "markdown",
   "metadata": {},
   "source": [
    "# Unit Conversion #\n",
    " \n",
    "## Mass ## \n",
    "1 kg  = 1000 g = 0.001 metric ton = 2.20462 lbm = 35.27392 oz \n",
    "1 lbm = 16 oz = 5 x 10-4 ton = 453.593 g = 0.453593 kg \n",
    " \n",
    "## Length ##\n",
    "1 m  = 100 cm = 1000 mm = 10^6 microns = 10^10 angstroms = 39.37 in. = 3.2808 ft = 1.0936 yd = 0.0006214 mile \n",
    " \n",
    "## Volume ##\n",
    "1 m3  = 1000 liters = 10^6 cm3 = 10^6 ml = 35.3145 ft3 = 220.83 imperial gallons = 264.17 gal  = 1056.68 qt \n",
    "1 ft3  = 1728 in.3 = 7.4805 gal = 0.028317 m3 = 28.317 liters = 28317 cm3 \n",
    " \n",
    "## Force ##\n",
    "1 N  = 1 kg\\cdot m/s2 = 10^5 dynes = 10^5 g\\cdot cm/s2 = 0.22481 lbf\n",
    "1 lbf = 32.174 lbm\\cdot ft/s2 = 4.4482 N = 4.4482 x 10^5 dynes \n",
    " \n",
    "## Pressure ##\n",
    "1 atm  = 1.01325 x 10^5 N/m2 (Pa) = 101.325 kPa = 1.01325 bars = 1.01325 x 10^6 dynes/cm2 = 760 mm Hg at 0 oC (torr) = 10.33 m H20 at 4 oC = 14.696 lbf/in.2 (psi) = 33.9 ft H2O at 4 oC = 29.921 in. Hg at 0 oC \n",
    " \n",
    "## Energy ##\n",
    "1 J  = 1 N\\cdot m = 10^7 ergs = 107 dyne\\cdot cm  = 2.778 x 10^-7 kW\\cdot h = 0.23901 cal = 0.7376 ft-lbf = 9.486 x 10^-4 BTU \n",
    " \n",
    "## Power ##\n",
    "1 W  = 1 J/s = 0.23901 cal/s = 0.7376 ft\\cdot lbf/s = 9.486 x 10-4 BTU/s = 1.341 x 10-3 hp \n",
    "   \n",
    "## Temperature ##\n",
    "T (K)   =  T (oC) + 273.15 \n",
    "T (oR) =  T (oF) + 459.67 \n",
    "T (oR) = 1.8 T (K) \n",
    "T (oF) = 1.8 T (oC) + 32 \n",
    " \n",
    "## Change in Temperature ##\n",
    "1 ∆ (oC) = 1.8 ∆ (oF) \n",
    "1 ∆ (Ko) = 1.8 ∆ (oR) \n",
    "1 ∆ (oF) = 0.5556 ∆ (oC) \n",
    "1 ∆ (oR) = 0.5556 ∆ (Ko) \n",
    " \n",
    "## The Gas Constant ##\n",
    "8.314 m3∙Pa/(mol∙K) \n",
    "0.08314 L∙bar/(mol∙K) \n",
    "0.08206 L∙atm/(mol∙K) \n",
    "0.7302 ft3∙atm/(lbmole∙oR) \n",
    "10.73 ft3∙psia/(lbmole∙oR) \n",
    "8.314 J/(mol∙K) \n",
    "1.987 cal/(mol∙K) \n",
    "1.987 BTU/(lbmole∙oR)\n"
   ]
  },
  {
   "cell_type": "code",
   "execution_count": null,
   "metadata": {},
   "outputs": [],
   "source": []
  },
  {
   "cell_type": "markdown",
   "metadata": {},
   "source": []
  },
  {
   "cell_type": "code",
   "execution_count": null,
   "metadata": {},
   "outputs": [],
   "source": []
  }
 ],
 "metadata": {
  "kernelspec": {
   "display_name": "Python 3",
   "language": "python",
   "name": "python3"
  },
  "language_info": {
   "codemirror_mode": {
    "name": "ipython",
    "version": 3
   },
   "file_extension": ".py",
   "mimetype": "text/x-python",
   "name": "python",
   "nbconvert_exporter": "python",
   "pygments_lexer": "ipython3",
   "version": "3.12.1"
  }
 },
 "nbformat": 4,
 "nbformat_minor": 2
}
